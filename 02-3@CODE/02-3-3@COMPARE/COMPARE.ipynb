{
 "cells": [
  {
   "cell_type": "code",
   "execution_count": null,
   "id": "1cd12169",
   "metadata": {},
   "outputs": [],
   "source": [
    "####################  ####################\n",
    "#COMPARE.ipynb\n",
    "#功能：对比两个数据集是否一致\n",
    "#输入数据集：\n",
    "    # df1 python版计算结果 \n",
    "    # df2 另一边计算结果 \n",
    "#打印：\n",
    "    # 比对报告 \n",
    "#作者：DXT\n",
    "#版本：v0.1\n",
    "####################  ####################"
   ]
  },
  {
   "cell_type": "code",
   "execution_count": 5,
   "id": "eee6f722",
   "metadata": {},
   "outputs": [],
   "source": [
    "# import ssl\n",
    "# ssl._create_default_https_context = ssl._create_unverified_context"
   ]
  },
  {
   "cell_type": "code",
   "execution_count": 6,
   "id": "c13af8c6",
   "metadata": {},
   "outputs": [
    {
     "name": "stdout",
     "output_type": "stream",
     "text": [
      "Looking in indexes: https://pypi.tuna.tsinghua.edu.cn/simple"
     ]
    },
    {
     "name": "stderr",
     "output_type": "stream",
     "text": [
      "WARNING: Retrying (Retry(total=4, connect=None, read=None, redirect=None, status=None)) after connection broken by 'SSLError(SSLCertVerificationError(1, '[SSL: CERTIFICATE_VERIFY_FAILED] certificate verify failed: unable to get local issuer certificate (_ssl.c:1129)'))': /simple/datacompy/\n"
     ]
    },
    {
     "name": "stdout",
     "output_type": "stream",
     "text": [
      "\n",
      "Collecting datacompy\n",
      "  Downloading https://pypi.tuna.tsinghua.edu.cn/packages/75/fc/42212e6a05119490085c31b2e3258edca11b2f8df98bff27a1dfa2e2ae36/datacompy-0.8.1-py3-none-any.whl (27 kB)\n",
      "Requirement already satisfied: pandas<=1.4.2,>=0.25.0 in c:\\users\\xh\\anaconda3\\lib\\site-packages (from datacompy) (1.4.2)\n",
      "Requirement already satisfied: numpy<=1.22.3,>=1.11.3 in c:\\users\\xh\\anaconda3\\lib\\site-packages (from datacompy) (1.21.5)\n",
      "Collecting ordered-set<=4.1.0,>=4.0.2\n",
      "  Downloading https://pypi.tuna.tsinghua.edu.cn/packages/33/55/af02708f230eb77084a299d7b08175cff006dea4f2721074b92cdb0296c0/ordered_set-4.1.0-py3-none-any.whl (7.6 kB)\n",
      "Requirement already satisfied: pytz>=2020.1 in c:\\users\\xh\\anaconda3\\lib\\site-packages (from pandas<=1.4.2,>=0.25.0->datacompy) (2021.3)\n",
      "Requirement already satisfied: python-dateutil>=2.8.1 in c:\\users\\xh\\anaconda3\\lib\\site-packages (from pandas<=1.4.2,>=0.25.0->datacompy) (2.8.2)\n",
      "Requirement already satisfied: six>=1.5 in c:\\users\\xh\\anaconda3\\lib\\site-packages (from python-dateutil>=2.8.1->pandas<=1.4.2,>=0.25.0->datacompy) (1.16.0)\n",
      "Installing collected packages: ordered-set, datacompy\n",
      "Successfully installed datacompy-0.8.1 ordered-set-4.1.0\n"
     ]
    }
   ],
   "source": [
    "# !pip install datacompy -i https://pypi.tuna.tsinghua.edu.cn/simple"
   ]
  },
  {
   "cell_type": "code",
   "execution_count": 7,
   "id": "98a3cba1",
   "metadata": {},
   "outputs": [],
   "source": [
    "#导包\n",
    "import os\n",
    "import pandas as pd\n",
    "import numpy as np\n",
    "from openpyxl import load_workbook\n",
    "import datacompy\n",
    "import warnings\n",
    "warnings.filterwarnings(\"ignore\")\n",
    "\n",
    "#读入数据的路径\n",
    "origin_path=os.path.dirname(os.path.dirname(os.getcwd()))+\"\\\\02-1@INPUT\\\\\"\n",
    "input_path=os.path.dirname(os.path.dirname(os.getcwd()))+\"\\\\02-2@DATA\\\\\"\n",
    "result_py_path=os.path.dirname(os.path.dirname(os.getcwd()))+\"\\\\02-4@OUTPUT\\\\\"\n",
    "result_enemy_path=os.path.dirname(os.path.dirname(os.getcwd()))+\"\\\\02-4@OUTPUT_SAS\\\\\""
   ]
  },
  {
   "cell_type": "code",
   "execution_count": 11,
   "id": "0da931d2",
   "metadata": {},
   "outputs": [],
   "source": [
    "#传给它数据集的名字，到指定的文件夹里找到计算结果，打印比对情况\n",
    "def compare_two_df(file_py,file_sas=None):\n",
    "    if file_sas==None:\n",
    "        file_sas=file_py\n",
    "    df1=pd.read_excel(result_py_path+file_py+\".xlsx\")\n",
    "    df2=pd.read_excel(result_enemy_path+file_sas+\".xlsx\")\n",
    "    compare=datacompy.Compare(df1,df2,abs_tol=0.000001,join_columns='id')\n",
    "    print(compare.report())"
   ]
  },
  {
   "cell_type": "code",
   "execution_count": 12,
   "id": "b8b86cfb",
   "metadata": {},
   "outputs": [
    {
     "name": "stdout",
     "output_type": "stream",
     "text": [
      "DataComPy Comparison\n",
      "--------------------\n",
      "\n",
      "DataFrame Summary\n",
      "-----------------\n",
      "\n",
      "  DataFrame  Columns  Rows\n",
      "0       df1        6   302\n",
      "1       df2        6   302\n",
      "\n",
      "Column Summary\n",
      "--------------\n",
      "\n",
      "Number of columns in common: 6\n",
      "Number of columns in df1 but not in df2: 0\n",
      "Number of columns in df2 but not in df1: 0\n",
      "\n",
      "Row Summary\n",
      "-----------\n",
      "\n",
      "Matched on: id\n",
      "Any duplicates on match values: No\n",
      "Absolute Tolerance: 1e-06\n",
      "Relative Tolerance: 0\n",
      "Number of rows in common: 302\n",
      "Number of rows in df1 but not in df2: 0\n",
      "Number of rows in df2 but not in df1: 0\n",
      "\n",
      "Number of rows with some compared columns unequal: 0\n",
      "Number of rows with all compared columns equal: 302\n",
      "\n",
      "Column Comparison\n",
      "-----------------\n",
      "\n",
      "Number of columns compared with some values unequal: 0\n",
      "Number of columns compared with all values equal: 6\n",
      "Total number of values which compare unequal: 0\n",
      "\n",
      "\n"
     ]
    }
   ],
   "source": [
    "#把要对比的数据集一个一个输进来看比对结果\n",
    "compare_two_df('SK_data')"
   ]
  },
  {
   "cell_type": "code",
   "execution_count": null,
   "id": "609ba2ba",
   "metadata": {},
   "outputs": [],
   "source": []
  }
 ],
 "metadata": {
  "kernelspec": {
   "display_name": "Python 3 (ipykernel)",
   "language": "python",
   "name": "python3"
  },
  "language_info": {
   "codemirror_mode": {
    "name": "ipython",
    "version": 3
   },
   "file_extension": ".py",
   "mimetype": "text/x-python",
   "name": "python",
   "nbconvert_exporter": "python",
   "pygments_lexer": "ipython3",
   "version": "3.9.12"
  }
 },
 "nbformat": 4,
 "nbformat_minor": 5
}
