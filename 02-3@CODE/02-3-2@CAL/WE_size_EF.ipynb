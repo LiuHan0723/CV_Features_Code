{
 "cells": [
  {
   "cell_type": "code",
   "execution_count": 1,
   "id": "e3b4060e",
   "metadata": {},
   "outputs": [],
   "source": [
    "from header import *"
   ]
  },
  {
   "cell_type": "code",
   "execution_count": 6,
   "id": "cf014faa",
   "metadata": {},
   "outputs": [],
   "source": [
    "def cal_WE_size_EF_data(df_basic_info,df_work_experience,df_job_intention):\n",
    "    \n",
    "    df_job_intention=df_job_intention.set_index(\"id\")\n",
    "    size_level_map={\"少于50人\":1,\"50-150人\":2,\"150-500人\":3,\"500-1000人\":4,\"1000-5000人\":5,\" 5000-10000人\":6,\"10000人以上\":7}\n",
    "    df_work_experience[\"company_size\"]=df_work_experience[\"company_size\"].apply(lambda x:x.strip() if not pd.isna(x) else x )\n",
    "    df_work_experience[\"size_level\"]=df_work_experience[\"company_size\"].map(size_level_map)\n",
    "    \n",
    "    df_basic_info=df_basic_info.set_index(\"id\")\n",
    "    \n",
    "    for col in range(len(df_work_experience.index.unique())):\n",
    "        idx=df_work_experience.loc[col,\"id\"]\n",
    "        intention_jobs=pd.Series(df_job_intention.loc[idx,\"job\"]).values\n",
    "        first_intention_job=intention_jobs[0]\n",
    "        if not pd.isna(df_work_experience.loc[col,\"company_job\"]):\n",
    "            \n",
    "            if df_work_experience.loc[col,\"company_job\"] in intention_jobs:\n",
    "                df_work_experience.loc[col,\"is_intention_job\"]=True\n",
    "\n",
    "            else:\n",
    "                df_work_experience.loc[col,\"is_intention_job\"]=False\n",
    "        \n",
    "            if df_work_experience.loc[col,\"company_job\"] == first_intention_job:\n",
    "                df_work_experience.loc[col,\"is_first_job\"]=True\n",
    "\n",
    "            else:\n",
    "                df_work_experience.loc[col,\"is_first_job\"]=False\n",
    "                \n",
    "        else:\n",
    "            df_work_experience.loc[col,\"is_intention_job\"]=False\n",
    "            df_work_experience.loc[col,\"is_first_job\"]=False\n",
    "    \n",
    "    for x in df_work_experience.groupby(\"id\"):\n",
    "        tmp_1x=x[1][\"size_level\"][x[1][\"is_intention_job\"]]\n",
    "        tmp_2x=x[1][\"size_level\"][x[1][\"is_first_job\"]]\n",
    "        \n",
    "        if len(tmp_1x[~tmp_1x.isna()])>0:\n",
    "            \n",
    "            df_basic_info.loc[x[1][\"id\"].unique()[0],\"WE_size_EF_MAX_01\"]=max(tmp_1x[~tmp_1x.isna()])\n",
    "            df_basic_info.loc[x[1][\"id\"].unique()[0],\"WE_size_EF_MIN_02\"]=min(tmp_1x[~tmp_1x.isna()])\n",
    "            df_basic_info.loc[x[1][\"id\"].unique()[0],\"WE_size_EF_MOD_03\"]=tmp_1x[~tmp_1x.isna()].mode()[0]\n",
    "            \n",
    "            \n",
    "        if len(tmp_2x[~tmp_2x.isna()])>0:\n",
    "        \n",
    "            df_basic_info.loc[x[1][\"id\"].unique()[0],\"WE_size_EF1_MAX_04\"]=max(tmp_2x[~tmp_2x.isna()])\n",
    "            df_basic_info.loc[x[1][\"id\"].unique()[0],\"WE_size_EF1_MIN_05\"]=min(tmp_2x[~tmp_2x.isna()])\n",
    "            df_basic_info.loc[x[1][\"id\"].unique()[0],\"WE_size_EF1_MOD_06\"]=tmp_2x[~tmp_2x.isna()].mode()[0]\n",
    "            \n",
    "    return df_basic_info.loc[:,\"WE_size_EF_MAX_01\":].fillna(0)\n",
    "        "
   ]
  },
  {
   "cell_type": "code",
   "execution_count": 8,
   "id": "a6bb9b76",
   "metadata": {},
   "outputs": [
    {
     "name": "stdout",
     "output_type": "stream",
     "text": [
      "       WE_size_EF_MAX_01  WE_size_EF_MIN_02  WE_size_EF_MOD_03  \\\n",
      "count         356.000000         356.000000         356.000000   \n",
      "mean            1.182584           0.929775           0.969101   \n",
      "std             1.789745           1.385279           1.459944   \n",
      "min             0.000000           0.000000           0.000000   \n",
      "25%             0.000000           0.000000           0.000000   \n",
      "50%             0.000000           0.000000           0.000000   \n",
      "75%             2.000000           2.000000           2.000000   \n",
      "max             7.000000           7.000000           7.000000   \n",
      "\n",
      "       WE_size_EF1_MAX_04  WE_size_EF1_MIN_05  WE_size_EF1_MOD_06  \n",
      "count          356.000000          356.000000          356.000000  \n",
      "mean             0.938202            0.794944            0.806180  \n",
      "std              1.557029            1.315167            1.338095  \n",
      "min              0.000000            0.000000            0.000000  \n",
      "25%              0.000000            0.000000            0.000000  \n",
      "50%              0.000000            0.000000            0.000000  \n",
      "75%              2.000000            1.000000            1.000000  \n",
      "max              7.000000            7.000000            7.000000  \n"
     ]
    }
   ],
   "source": [
    "if __name__==\"__main__\":\n",
    "    df_basic_info=pd.read_excel(\"../../02-2@DATA/cv_basic_info_cleaned_IT.xlsx\")\n",
    "    df_work_experience=pd.read_excel(\"../../02-2@DATA/cv_work_experience_cleaned_IT.xlsx\")\n",
    "    df_job_intention=pd.read_excel(\"../../02-2@DATA/cv_job_attention_cleaned_IT.xlsx\")\n",
    "\n",
    "    result=cal_WE_size_EF_data(df_basic_info,df_work_experience,df_job_intention)\n",
    "    \n",
    "    writer=pd.ExcelWriter(output_path+\"WE_size_EF.xlsx\",engine=\"openpyxl\")\n",
    "    result.to_excel(writer)\n",
    "    \n",
    "    writer.save()\n",
    "    writer.close()\n",
    "    print(result.describe())"
   ]
  },
  {
   "cell_type": "code",
   "execution_count": null,
   "id": "39379f0b",
   "metadata": {},
   "outputs": [],
   "source": []
  }
 ],
 "metadata": {
  "kernelspec": {
   "display_name": "Python 3",
   "language": "python",
   "name": "python3"
  },
  "language_info": {
   "codemirror_mode": {
    "name": "ipython",
    "version": 3
   },
   "file_extension": ".py",
   "mimetype": "text/x-python",
   "name": "python",
   "nbconvert_exporter": "python",
   "pygments_lexer": "ipython3",
   "version": "3.8.8"
  }
 },
 "nbformat": 4,
 "nbformat_minor": 5
}
