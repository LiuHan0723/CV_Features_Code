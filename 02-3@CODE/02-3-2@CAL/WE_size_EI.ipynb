{
 "cells": [
  {
   "cell_type": "code",
   "execution_count": 1,
   "id": "407a7d4b",
   "metadata": {},
   "outputs": [],
   "source": [
    "from header import *"
   ]
  },
  {
   "cell_type": "code",
   "execution_count": 25,
   "id": "2a6e4b0d",
   "metadata": {},
   "outputs": [],
   "source": [
    "def cal_WE_size_EI_data(df_basic_info,df_job_intention,df_work_experience):\n",
    "    \n",
    "    df_job_intention=df_job_intention.set_index(\"id\")\n",
    "    size_level_map={\"少于50人\":1,\"50-150人\":2,\"150-500人\":3,\"500-1000人\":4,\"1000-5000人\":5,\" 5000-10000人\":6,\"10000人以上\":7}\n",
    "    df_work_experience[\"company_size\"]=df_work_experience[\"company_size\"].apply(lambda x:x.strip() if not pd.isna(x) else x )\n",
    "    df_work_experience[\"size_level\"]=df_work_experience[\"company_size\"].map(size_level_map)\n",
    "    \n",
    "    df_basic_info=df_basic_info.set_index(\"id\")\n",
    "    \n",
    "    for col in range(len(df_work_experience.index.unique())):\n",
    "        \n",
    "        idx=df_work_experience.loc[col,\"id\"]\n",
    "        intention_industries=df_job_intention.loc[idx,\"industry1\":].values\n",
    "        first_intention_industries=pd.Series(df_job_intention.loc[idx,\"industry1\"]).values\n",
    "        \n",
    "        if not pd.isna(df_work_experience.loc[col,\"company_industry\"]):\n",
    "            \n",
    "            if df_work_experience.loc[col,\"company_industry\"] in intention_industries:\n",
    "                df_work_experience.loc[col,\"is_intention_industry\"]=True\n",
    "\n",
    "            else:\n",
    "                df_work_experience.loc[col,\"is_intention_industry\"]=False\n",
    "        \n",
    "            if df_work_experience.loc[col,\"company_industry\"] in first_intention_industries:\n",
    "                df_work_experience.loc[col,\"is_first_intention\"]=True\n",
    "\n",
    "            else:\n",
    "                df_work_experience.loc[col,\"is_first_intention\"]=False\n",
    "                \n",
    "        else:\n",
    "            df_work_experience.loc[col,\"is_intention_industry\"]=False\n",
    "            df_work_experience.loc[col,\"is_first_intention\"]=False\n",
    "    \n",
    "    for x in df_work_experience.groupby(\"id\"):\n",
    "        tmp_1x=x[1][\"size_level\"][x[1][\"is_intention_industry\"]]\n",
    "        tmp_2x=x[1][\"size_level\"][x[1][\"is_first_intention\"]]\n",
    "        \n",
    "        if len(tmp_1x[~tmp_1x.isna()])>0:\n",
    "            \n",
    "            df_basic_info.loc[x[1][\"id\"].unique()[0],\"WE_size_EI_MAX_01\"]=max(tmp_1x[~tmp_1x.isna()])\n",
    "            df_basic_info.loc[x[1][\"id\"].unique()[0],\"WE_size_EI_MIN_02\"]=min(tmp_1x[~tmp_1x.isna()])\n",
    "            df_basic_info.loc[x[1][\"id\"].unique()[0],\"WE_size_EI_MOD_03\"]=tmp_1x[~tmp_1x.isna()].mode()[0]\n",
    "            \n",
    "            \n",
    "        if len(tmp_2x[~tmp_2x.isna()])>0:\n",
    "        \n",
    "            df_basic_info.loc[x[1][\"id\"].unique()[0],\"WE_size_EI1_MAX_04\"]=max(tmp_2x[~tmp_2x.isna()])\n",
    "            df_basic_info.loc[x[1][\"id\"].unique()[0],\"WE_size_EI1_MIN_05\"]=min(tmp_2x[~tmp_2x.isna()])\n",
    "            df_basic_info.loc[x[1][\"id\"].unique()[0],\"WE_size_EI1_MOD_06\"]=tmp_2x[~tmp_2x.isna()].mode()[0]\n",
    "            \n",
    "    return df_basic_info.loc[:,\"WE_size_EI_MAX_01\":].fillna(0)\n",
    "        \n",
    "        "
   ]
  },
  {
   "cell_type": "code",
   "execution_count": 28,
   "id": "8e22d793",
   "metadata": {},
   "outputs": [
    {
     "name": "stdout",
     "output_type": "stream",
     "text": [
      "       WE_size_EI_MAX_01  WE_size_EI_MIN_02  WE_size_EI_MOD_03  \\\n",
      "count         356.000000         356.000000         356.000000   \n",
      "mean            1.126404           0.848315           0.904494   \n",
      "std             1.851769           1.425926           1.500003   \n",
      "min             0.000000           0.000000           0.000000   \n",
      "25%             0.000000           0.000000           0.000000   \n",
      "50%             0.000000           0.000000           0.000000   \n",
      "75%             2.000000           1.000000           1.000000   \n",
      "max             7.000000           7.000000           7.000000   \n",
      "\n",
      "       WE_size_EI1_MAX_04  WE_size_EI1_MIN_05  WE_size_EI1_MOD_06  \n",
      "count          356.000000          356.000000          356.000000  \n",
      "mean             1.002809            0.803371            0.848315  \n",
      "std              1.786489            1.472983            1.528885  \n",
      "min              0.000000            0.000000            0.000000  \n",
      "25%              0.000000            0.000000            0.000000  \n",
      "50%              0.000000            0.000000            0.000000  \n",
      "75%              1.000000            1.000000            1.000000  \n",
      "max              7.000000            7.000000            7.000000  \n"
     ]
    }
   ],
   "source": [
    "if __name__==\"__main__\":\n",
    "    df_basic_info=pd.read_excel(\"../../02-2@DATA/cv_basic_info_cleaned_IT.xlsx\")\n",
    "    df_work_experience=pd.read_excel(\"../../02-2@DATA/cv_work_experience_cleaned_IT.xlsx\")\n",
    "    df_job_intention=pd.read_excel(\"../../02-2@DATA/cv_job_attention_cleaned_IT.xlsx\")\n",
    "\n",
    "    result=cal_WE_size_EI_data(df_basic_info,df_job_intention,df_work_experience)\n",
    "    \n",
    "    writer=pd.ExcelWriter(output_path+\"WE_size_EI.xlsx\",engine=\"openpyxl\")\n",
    "    result.to_excel(writer)\n",
    "    \n",
    "    writer.save()\n",
    "    writer.close()\n",
    "    print(result.describe())"
   ]
  },
  {
   "cell_type": "code",
   "execution_count": 4,
   "id": "c2638672",
   "metadata": {},
   "outputs": [],
   "source": [
    "df=df.set_index(\"id\")"
   ]
  },
  {
   "cell_type": "code",
   "execution_count": 14,
   "id": "c276db05",
   "metadata": {},
   "outputs": [],
   "source": [
    "if 3 in np.array([[2,2],[2,1]]):\n",
    "    print(\"a\")"
   ]
  },
  {
   "cell_type": "code",
   "execution_count": 30,
   "id": "b53e4c12",
   "metadata": {},
   "outputs": [
    {
     "data": {
      "text/plain": [
       "0    1\n",
       "dtype: int64"
      ]
     },
     "execution_count": 30,
     "metadata": {},
     "output_type": "execute_result"
    }
   ],
   "source": [
    "pd.Series(pd.Series([1,2,3]))[[True,False,False]]"
   ]
  },
  {
   "cell_type": "code",
   "execution_count": null,
   "id": "9c9a16cc",
   "metadata": {},
   "outputs": [],
   "source": []
  }
 ],
 "metadata": {
  "kernelspec": {
   "display_name": "Python 3",
   "language": "python",
   "name": "python3"
  },
  "language_info": {
   "codemirror_mode": {
    "name": "ipython",
    "version": 3
   },
   "file_extension": ".py",
   "mimetype": "text/x-python",
   "name": "python",
   "nbconvert_exporter": "python",
   "pygments_lexer": "ipython3",
   "version": "3.8.8"
  }
 },
 "nbformat": 4,
 "nbformat_minor": 5
}
