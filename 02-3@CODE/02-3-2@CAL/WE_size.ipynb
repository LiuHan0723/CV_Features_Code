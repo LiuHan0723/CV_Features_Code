{
 "cells": [
  {
   "cell_type": "code",
   "execution_count": 1,
   "id": "45ae5fa5",
   "metadata": {},
   "outputs": [],
   "source": [
    "from header import *"
   ]
  },
  {
   "cell_type": "code",
   "execution_count": 145,
   "id": "45c8f985",
   "metadata": {},
   "outputs": [],
   "source": [
    "def cal_WE_size_data(df_basic_info,df_work_experience):\n",
    "    \n",
    "    \n",
    "    size_level_map={\"少于50人\":1,\"50-150人\":2,\"150-500人\":3,\"500-1000人\":4,\"1000-5000人\":5,\" 5000-10000人\":6,\"10000人以上\":7}\n",
    "    df_work_experience[\"company_size\"]=df_work_experience[\"company_size\"].apply(lambda x:x.strip() if not pd.isna(x) else x )\n",
    "    df_work_experience[\"size_level\"]=df_work_experience[\"company_size\"].map(size_level_map)\n",
    "    df_work_experience=df_work_experience.replace({\"end_time\":{\"至今\":\"2022/7\"}})\n",
    "    df_work_experience[\"begin_time\"]=pd.to_datetime(df_work_experience[\"begin_time\"])\n",
    "    df_work_experience[\"end_time\"]=pd.to_datetime(df_work_experience[\"end_time\"])\n",
    "   \n",
    "    #最近一次工作的公司规模\n",
    "    tmp_df=df_work_experience.groupby(\"id\").apply(lambda x:x[\"size_level\"].to_list()[0]).to_frame()\n",
    "    tmp_df.columns=[\"WE_size_01\"]\n",
    "    df_basic_info=pd.merge(df_basic_info,tmp_df,how=\"left\",on=\"id\")\n",
    "    \n",
    "    df_basic_info=df_basic_info.set_index(\"id\")\n",
    "    for x in df_work_experience.groupby(\"id\"):\n",
    "        tmp_1x=x[1][\"size_level\"][x[1][\"end_time\"]>pd.to_datetime(\"2021/7\")]\n",
    "        tmp_2x=x[1][\"size_level\"][x[1][\"end_time\"]>pd.to_datetime(\"2020/7\")]\n",
    "        tmp_3x=x[1][\"size_level\"][x[1][\"end_time\"]>pd.to_datetime(\"2019/7\")]\n",
    "        tmp_4x=x[1][\"size_level\"][x[1][\"end_time\"]>pd.to_datetime(\"2018/7\")]\n",
    "        tmp_5x=x[1][\"size_level\"][x[1][\"end_time\"]>pd.to_datetime(\"2017/7\")]\n",
    "        \n",
    "        if len(tmp_1x[~tmp_1x.isna()])>0:\n",
    "            df_basic_info.loc[x[1][\"id\"].unique()[0],\"WE_Y1_size_MAX_02\"]=max(tmp_1x[~tmp_1x.isna()])\n",
    "            df_basic_info.loc[x[1][\"id\"].unique()[0],\"WE_Y1_size_MIN_03\"]=min(tmp_1x[~tmp_1x.isna()])\n",
    "            df_basic_info.loc[x[1][\"id\"].unique()[0],\"WE_Y1_size_MOD_04\"]=tmp_1x[~tmp_1x.isna()].mode()[0]\n",
    "            \n",
    "        if len(tmp_2x[~tmp_2x.isna()])>0:\n",
    "            df_basic_info.loc[x[1][\"id\"].unique()[0],\"WE_Y2_size_MAX_05\"]=max(tmp_2x[~tmp_2x.isna()])\n",
    "            df_basic_info.loc[x[1][\"id\"].unique()[0],\"WE_Y2_size_MIN_06\"]=min(tmp_2x[~tmp_2x.isna()])\n",
    "            df_basic_info.loc[x[1][\"id\"].unique()[0],\"WE_Y2_size_MOD_07\"]=tmp_2x[~tmp_2x.isna()].mode()[0]\n",
    "            \n",
    "        if len(tmp_3x[~tmp_3x.isna()])>0:\n",
    "            df_basic_info.loc[x[1][\"id\"].unique()[0],\"WE_Y3_size_MAX_08\"]=max(tmp_3x[~tmp_3x.isna()])\n",
    "            df_basic_info.loc[x[1][\"id\"].unique()[0],\"WE_Y3_size_MIN_09\"]=min(tmp_3x[~tmp_3x.isna()])\n",
    "            df_basic_info.loc[x[1][\"id\"].unique()[0],\"WE_Y3_size_MOD_10\"]=tmp_3x[~tmp_3x.isna()].mode()[0]\n",
    "            \n",
    "        if len(tmp_4x[~tmp_4x.isna()])>0:\n",
    "            df_basic_info.loc[x[1][\"id\"].unique()[0],\"WE_Y4_size_MAX_11\"]=max(tmp_4x[~tmp_4x.isna()])\n",
    "            df_basic_info.loc[x[1][\"id\"].unique()[0],\"WE_Y4_size_MIN_12\"]=min(tmp_4x[~tmp_4x.isna()])\n",
    "            df_basic_info.loc[x[1][\"id\"].unique()[0],\"WE_Y4_size_MOD_13\"]=tmp_4x[~tmp_4x.isna()].mode()[0]\n",
    "            \n",
    "        if len(tmp_5x[~tmp_5x.isna()])>0:\n",
    "            df_basic_info.loc[x[1][\"id\"].unique()[0],\"WE_Y5_size_MAX_14\"]=max(tmp_5x[~tmp_5x.isna()])\n",
    "            df_basic_info.loc[x[1][\"id\"].unique()[0],\"WE_Y5_size_MIN_15\"]=min(tmp_5x[~tmp_5x.isna()])\n",
    "            df_basic_info.loc[x[1][\"id\"].unique()[0],\"WE_Y5_size_MOD_16\"]=tmp_5x[~tmp_5x.isna()].mode()[0]\n",
    "    \n",
    "    return df_basic_info.loc[:,\"WE_size_01\":].fillna(0)\n",
    "\n",
    "        \n",
    "    \n",
    "    \n",
    "    "
   ]
  },
  {
   "cell_type": "code",
   "execution_count": 147,
   "id": "307fbf67",
   "metadata": {},
   "outputs": [
    {
     "name": "stdout",
     "output_type": "stream",
     "text": [
      "       WE_size_01  WE_Y1_size_MAX_02  WE_Y1_size_MIN_03  WE_Y1_size_MOD_04  \\\n",
      "count  356.000000         356.000000         356.000000         356.000000   \n",
      "mean     1.320225           1.328652           1.261236           1.261236   \n",
      "std      1.790031           1.879877           1.803522           1.803522   \n",
      "min      0.000000           0.000000           0.000000           0.000000   \n",
      "25%      0.000000           0.000000           0.000000           0.000000   \n",
      "50%      1.000000           0.000000           0.000000           0.000000   \n",
      "75%      2.000000           2.000000           2.000000           2.000000   \n",
      "max      7.000000           7.000000           7.000000           7.000000   \n",
      "\n",
      "       WE_Y2_size_MAX_05  WE_Y2_size_MIN_06  WE_Y2_size_MOD_07  \\\n",
      "count         356.000000         356.000000         356.000000   \n",
      "mean            1.525281           1.334270           1.342697   \n",
      "std             2.010376           1.808604           1.817126   \n",
      "min             0.000000           0.000000           0.000000   \n",
      "25%             0.000000           0.000000           0.000000   \n",
      "50%             1.000000           1.000000           1.000000   \n",
      "75%             2.000000           2.000000           2.000000   \n",
      "max             7.000000           7.000000           7.000000   \n",
      "\n",
      "       WE_Y3_size_MAX_08  WE_Y3_size_MIN_09  WE_Y3_size_MOD_10  \\\n",
      "count         356.000000         356.000000         356.000000   \n",
      "mean            1.592697           1.266854           1.292135   \n",
      "std             2.050037           1.704715           1.724405   \n",
      "min             0.000000           0.000000           0.000000   \n",
      "25%             0.000000           0.000000           0.000000   \n",
      "50%             1.000000           1.000000           1.000000   \n",
      "75%             3.000000           2.000000           2.000000   \n",
      "max             7.000000           7.000000           7.000000   \n",
      "\n",
      "       WE_Y4_size_MAX_11  WE_Y4_size_MIN_12  WE_Y4_size_MOD_13  \\\n",
      "count         356.000000         356.000000         356.000000   \n",
      "mean            1.713483           1.292135           1.314607   \n",
      "std             2.132759           1.703036           1.722072   \n",
      "min             0.000000           0.000000           0.000000   \n",
      "25%             0.000000           0.000000           0.000000   \n",
      "50%             1.000000           1.000000           1.000000   \n",
      "75%             3.000000           2.000000           2.000000   \n",
      "max             7.000000           7.000000           7.000000   \n",
      "\n",
      "       WE_Y5_size_MAX_14  WE_Y5_size_MIN_15  WE_Y5_size_MOD_16  \n",
      "count         356.000000         356.000000         356.000000  \n",
      "mean            1.769663           1.269663           1.323034  \n",
      "std             2.181298           1.635962           1.696601  \n",
      "min             0.000000           0.000000           0.000000  \n",
      "25%             0.000000           0.000000           0.000000  \n",
      "50%             1.000000           1.000000           1.000000  \n",
      "75%             3.000000           2.000000           2.000000  \n",
      "max             7.000000           7.000000           7.000000  \n"
     ]
    }
   ],
   "source": [
    "if __name__==\"__main__\":\n",
    "    df_basic_info=pd.read_excel(\"../../02-2@DATA/cv_basic_info_cleaned_IT.xlsx\")\n",
    "    df_work_experience=pd.read_excel(\"../../02-2@DATA/cv_work_experience_cleaned_IT.xlsx\")\n",
    "\n",
    "    result=cal_WE_size_data(df_basic_info,df_work_experience)\n",
    "    writer=pd.ExcelWriter(output_path+\"WE_size.xlsx\",engine=\"openpyxl\")\n",
    "    result.to_excel(writer)\n",
    "    writer.save()\n",
    "    writer.close()\n",
    "    print(result.describe())"
   ]
  },
  {
   "cell_type": "code",
   "execution_count": 142,
   "id": "d6b0dd49",
   "metadata": {},
   "outputs": [
    {
     "data": {
      "text/plain": [
       "id\n",
       "IT-P00000001    0\n",
       "IT-P00000001    0\n",
       "IT-P00000001    0\n",
       "IT-P00000001    0\n",
       "IT-P00000002    0\n",
       "               ..\n",
       "IT-H00000052    0\n",
       "IT-H00000053    0\n",
       "IT-H00000053    0\n",
       "IT-H00000054    0\n",
       "IT-H00000054    0\n",
       "Name: test, Length: 752, dtype: int64"
      ]
     },
     "execution_count": 142,
     "metadata": {},
     "output_type": "execute_result"
    }
   ],
   "source": [
    "df=df.replace({\"end_time\":{\"至今\":\"2022/7\"}})\n",
    "df[\"begin_time\"]=pd.to_datetime(df[\"begin_time\"])\n",
    "df[\"end_time\"]=pd.to_datetime(df[\"end_time\"])\n",
    "# print(max(df[\"company_size\"]))\n",
    "\n",
    "df[\"test\"]=0\n",
    "df.loc[\"IT-H00000001\",\"test\"]=[1,1,1,1]\n",
    "df[\"test\"]"
   ]
  },
  {
   "cell_type": "code",
   "execution_count": 56,
   "id": "9061e80a",
   "metadata": {},
   "outputs": [
    {
     "ename": "TypeError",
     "evalue": "'>' not supported between instances of 'str' and 'float'",
     "output_type": "error",
     "traceback": [
      "\u001b[1;31m---------------------------------------------------------------------------\u001b[0m",
      "\u001b[1;31mTypeError\u001b[0m                                 Traceback (most recent call last)",
      "\u001b[1;32m<ipython-input-56-4da46cd920ff>\u001b[0m in \u001b[0;36m<module>\u001b[1;34m\u001b[0m\n\u001b[1;32m----> 1\u001b[1;33m \u001b[0mmax\u001b[0m\u001b[1;33m(\u001b[0m\u001b[0mnp\u001b[0m\u001b[1;33m.\u001b[0m\u001b[0mnan\u001b[0m\u001b[1;33m,\u001b[0m\u001b[1;34m\"dqw\"\u001b[0m\u001b[1;33m)\u001b[0m\u001b[1;33m\u001b[0m\u001b[1;33m\u001b[0m\u001b[0m\n\u001b[0m",
      "\u001b[1;31mTypeError\u001b[0m: '>' not supported between instances of 'str' and 'float'"
     ]
    }
   ],
   "source": [
    "max(np.nan,\"dqw\")"
   ]
  },
  {
   "cell_type": "code",
   "execution_count": 110,
   "id": "a63db268",
   "metadata": {},
   "outputs": [],
   "source": [
    "df1=pd.DataFrame({\"a\":[1,2,3],\"v\":[5,6,7]})"
   ]
  },
  {
   "cell_type": "code",
   "execution_count": 111,
   "id": "785c01d0",
   "metadata": {},
   "outputs": [],
   "source": [
    "df1=df1.set_index(\"a\")"
   ]
  },
  {
   "cell_type": "code",
   "execution_count": 117,
   "id": "62bcdaec",
   "metadata": {},
   "outputs": [],
   "source": [
    "df1.loc[1,\"d\"]=1"
   ]
  },
  {
   "cell_type": "code",
   "execution_count": 129,
   "id": "d5fcc2d1",
   "metadata": {},
   "outputs": [
    {
     "data": {
      "text/plain": [
       "1"
      ]
     },
     "execution_count": 129,
     "metadata": {},
     "output_type": "execute_result"
    }
   ],
   "source": [
    "pd.Series([1,1,2]).mode()[0]"
   ]
  },
  {
   "cell_type": "code",
   "execution_count": null,
   "id": "e19a8e7c",
   "metadata": {},
   "outputs": [],
   "source": []
  }
 ],
 "metadata": {
  "kernelspec": {
   "display_name": "Python 3",
   "language": "python",
   "name": "python3"
  },
  "language_info": {
   "codemirror_mode": {
    "name": "ipython",
    "version": 3
   },
   "file_extension": ".py",
   "mimetype": "text/x-python",
   "name": "python",
   "nbconvert_exporter": "python",
   "pygments_lexer": "ipython3",
   "version": "3.8.8"
  }
 },
 "nbformat": 4,
 "nbformat_minor": 5
}
