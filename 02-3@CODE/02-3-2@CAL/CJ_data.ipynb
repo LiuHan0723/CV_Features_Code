{
 "cells": [
  {
   "cell_type": "code",
   "execution_count": 2,
   "id": "8f96b35b",
   "metadata": {},
   "outputs": [],
   "source": [
    "from header import *"
   ]
  },
  {
   "cell_type": "code",
   "execution_count": 3,
   "id": "e1666e2e",
   "metadata": {},
   "outputs": [],
   "source": [
    "def cal_CJ_data(df_basic_info,df_cj_info):\n",
    "    \n",
    "    df_cj_info.replace({\"end_time\":{\"至今\":\"2022/07\"}},inplace=True)\n",
    "    df_cj_info[\"end_time\"]=pd.to_datetime(df_cj_info[\"end_time\"])\n",
    "    df_cj_info[\"begin_time\"]=pd.to_datetime(df_cj_info[\"begin_time\"])\n",
    "    \n",
    "    tmp_df_num=df_cj_info.groupby(\"id\")[\"title\"].count().to_frame()\n",
    "    tmp_df_num.columns=[\"CJ_N_01\"]\n",
    "    \n",
    "    tmp_df_time=df_cj_info.groupby(\"id\").apply(lambda x:round(sum([i.days/30 for i in (x[\"end_time\"]-x[\"begin_time\"])]),1)).to_frame()\n",
    "    tmp_df_time.columns=[\"CJ_time_02\"]\n",
    "    \n",
    "    df_basic_info=pd.merge(df_basic_info,tmp_df_num,how=\"left\",left_on=\"id\",right_on=\"id\")\n",
    "    df_basic_info=pd.merge(df_basic_info,tmp_df_time,how=\"left\",left_on=\"id\",right_on=\"id\")\n",
    "    \n",
    "    return df_basic_info[[\"id\",\"CJ_N_01\",\"CJ_time_02\"]].fillna(0).set_index(\"id\")"
   ]
  },
  {
   "cell_type": "code",
   "execution_count": 5,
   "id": "43f0c710",
   "metadata": {},
   "outputs": [
    {
     "name": "stdout",
     "output_type": "stream",
     "text": [
      "         CJ_N_01  CJ_time_02\n",
      "count  54.000000   54.000000\n",
      "mean    0.129630    3.096296\n",
      "std     0.584268   14.886995\n",
      "min     0.000000    0.000000\n",
      "25%     0.000000    0.000000\n",
      "50%     0.000000    0.000000\n",
      "75%     0.000000    0.000000\n",
      "max     4.000000   99.300000\n"
     ]
    }
   ],
   "source": [
    "if __name__==\"__main__\":\n",
    "\n",
    "    df_basic_info=pd.read_excel(\"../../02-2@DATA/result_html.xlsx\",sheet_name=\"基本信息表\")\n",
    "    df_cj_info=pd.read_excel(\"../../02-2@DATA/result_html.xlsx\",sheet_name=\"在校职务表\")\n",
    "    result=cal_CJ_data(df_basic_info,df_cj_info)\n",
    "    \n",
    "    writer=pd.ExcelWriter(output_path+\"CJ_data.xlsx\",engine=\"openpyxl\")\n",
    "    result.to_excel(writer)\n",
    "    \n",
    "    writer.save()\n",
    "    writer.close()\n",
    "    \n",
    "    print(result.describe())"
   ]
  },
  {
   "cell_type": "code",
   "execution_count": null,
   "id": "743634bc",
   "metadata": {},
   "outputs": [],
   "source": []
  }
 ],
 "metadata": {
  "kernelspec": {
   "display_name": "Python 3",
   "language": "python",
   "name": "python3"
  },
  "language_info": {
   "codemirror_mode": {
    "name": "ipython",
    "version": 3
   },
   "file_extension": ".py",
   "mimetype": "text/x-python",
   "name": "python",
   "nbconvert_exporter": "python",
   "pygments_lexer": "ipython3",
   "version": "3.8.8"
  }
 },
 "nbformat": 4,
 "nbformat_minor": 5
}
