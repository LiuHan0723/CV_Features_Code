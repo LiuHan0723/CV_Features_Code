{
 "cells": [
  {
   "cell_type": "code",
   "execution_count": 3,
   "id": "04444bf8",
   "metadata": {},
   "outputs": [],
   "source": [
    "from header import *\n",
    "import datetime"
   ]
  },
  {
   "cell_type": "code",
   "execution_count": 9,
   "id": "9e9be1c6",
   "metadata": {},
   "outputs": [],
   "source": [
    "def cal_PE_data(df_cv_basic_info,df_project_info):\n",
    "    \n",
    "    pd_merge0=pd.merge(df_cv_basic_info,df_project_info,left_on=\"id\",right_on=\"id\",how=\"left\")\n",
    "    pd0=pd_merge0.groupby(\"id\").count()[\"project_name\"]\n",
    "    \n",
    "    pd_merge1=pd.merge(df_cv_basic_info,df_project_info[df_project_info[\"end_time\"]!=\"至今\"],left_on=\"id\",right_on=\"id\",how=\"left\")\n",
    "    pd1=pd_merge1.groupby(\"id\").count()[\"project_name\"]\n",
    "    \n",
    "    pd_merge2=pd.merge(df_cv_basic_info,df_project_info[df_project_info[\"end_time\"]==\"至今\"],left_on=\"id\",right_on=\"id\",how=\"left\")\n",
    "    pd2=pd_merge2.groupby(\"id\").count()[\"project_name\"]\n",
    "    \n",
    "    \n",
    "    pd_merge3=pd.merge(df_cv_basic_info,df_project_info.replace({\"end_time\":{\"至今\":\"2022/7\"}}),left_on=\"id\",right_on=\"id\",how=\"left\")\n",
    "    \n",
    "    pd_merge3[\"begin_time\"]=pd.to_datetime(pd_merge3[\"begin_time\"])\n",
    "    pd_merge3[\"end_time\"]=pd.to_datetime(pd_merge3[\"end_time\"])\n",
    "    \n",
    "    pd3=pd_merge3.groupby('id').apply(lambda x:sum([i>pd.to_datetime(\"2021/7\") for i in x[\"end_time\"]])) \n",
    "    \n",
    "    pd4=pd_merge3.groupby('id').apply(lambda x:sum([i>pd.to_datetime(\"2020/7\") for i in x[\"end_time\"]]))\n",
    "    pd5=pd_merge3.groupby('id').apply(lambda x:sum([i>pd.to_datetime(\"2019/7\") for i in x[\"end_time\"]]))\n",
    "    pd6=pd_merge3.groupby('id').apply(lambda x:sum([i>pd.to_datetime(\"2018/7\") for i in x[\"end_time\"]]))\n",
    "    pd7=pd_merge3.groupby('id').apply(lambda x:sum([i>pd.to_datetime(\"2017/7\") for i in x[\"end_time\"]]))\n",
    "    pd8=pd_merge3.groupby('id').apply(lambda x:max(x[\"end_time\"]-x[\"begin_time\"]).days//30)\n",
    "    pd9=pd_merge3.groupby('id').apply(lambda x:min(x[\"end_time\"]-x[\"begin_time\"]).days//30)\n",
    "    pd10=pd_merge3.groupby('id').apply(lambda x:sum([i.days//30 for i in (x[\"end_time\"]-x[\"begin_time\"])])//len([i.days for i in (pd.to_datetime(\"2022/7\")-x[\"end_time\"])]))\n",
    "    pd11=pd_merge3.groupby('id').apply(lambda x:sum([i.days//30 for i in (x[\"end_time\"]-x[\"begin_time\"])]))\n",
    "    \n",
    "    s1=pd.concat([pd0,pd1,pd2,pd3,pd4,pd5,pd6,pd7,pd8,pd9,pd10,pd11],axis=1)\n",
    "    \n",
    "    s1.columns=[\"PE_N_01\",\"PE_1N_02\",\"PE_2N_03\",\"PE_Y1_N_04\",\"PE_Y2_N_05\",\"PE_Y3_N_06\",\"PE_Y4_N_07\",\"PE_Y5_N_08\",\"PE_time_MAX_01\",\"PE_time_MIN_02\",\"PE_time_AVG_03\",\"PE_time_SUM_04\"]\n",
    "    return pd.merge(df_cv_basic_info[['id']],s1,left_on='id',right_on='id',how='left').fillna(0).set_index(\"id\")\n",
    "    \n",
    "    "
   ]
  },
  {
   "cell_type": "code",
   "execution_count": 10,
   "id": "7a140db6",
   "metadata": {},
   "outputs": [
    {
     "name": "stdout",
     "output_type": "stream",
     "text": [
      "        PE_N_01   PE_1N_02   PE_2N_03  PE_Y1_N_04  PE_Y2_N_05  PE_Y3_N_06  \\\n",
      "count  54.00000  54.000000  54.000000   54.000000   54.000000   54.000000   \n",
      "mean    3.37037   3.129630   0.240741    0.685185    1.111111    1.462963   \n",
      "std     5.33163   5.334283   0.642377    1.225885    1.766210    2.034726   \n",
      "min     0.00000   0.000000   0.000000    0.000000    0.000000    0.000000   \n",
      "25%     0.00000   0.000000   0.000000    0.000000    0.000000    0.000000   \n",
      "50%     2.00000   2.000000   0.000000    0.000000    0.000000    1.000000   \n",
      "75%     4.00000   4.000000   0.000000    1.000000    1.750000    2.000000   \n",
      "max    33.00000  33.000000   3.000000    5.000000    9.000000   10.000000   \n",
      "\n",
      "       PE_Y4_N_07  PE_Y5_N_08  PE_time_MAX_01  PE_time_MIN_02  PE_time_AVG_03  \\\n",
      "count   54.000000   54.000000       54.000000       54.000000       54.000000   \n",
      "mean     1.981481    2.129630       18.648148        8.018519       12.018519   \n",
      "std      2.695144    2.894668       26.885612       20.362276       21.701657   \n",
      "min      0.000000    0.000000        0.000000        0.000000        0.000000   \n",
      "25%      0.000000    0.000000        0.000000        0.000000        0.000000   \n",
      "50%      1.000000    1.000000        8.000000        2.500000        5.000000   \n",
      "75%      3.000000    3.000000       31.750000        6.750000       14.250000   \n",
      "max     13.000000   14.000000      138.000000      138.000000      138.000000   \n",
      "\n",
      "       PE_time_SUM_04  \n",
      "count       54.000000  \n",
      "mean        48.944444  \n",
      "std        119.541012  \n",
      "min          0.000000  \n",
      "25%          0.000000  \n",
      "50%         13.000000  \n",
      "75%         51.500000  \n",
      "max        828.000000  \n"
     ]
    }
   ],
   "source": [
    "if __name__==\"__main__\":\n",
    "    df_cv_basic_info=pd.read_excel(\"../../02-2@DATA/cv_html_basic_info_cleaned_IT.xlsx\")\n",
    "    df_project_info=pd.read_excel(\"../../02-2@DATA/cv_html_project_experience_cleaned_IT.xlsx\")\n",
    "    \n",
    "    result=cal_PE_data(df_cv_basic_info,df_project_info)\n",
    "    \n",
    "    writer=pd.ExcelWriter(output_path+\"PE_data.xlsx\",engine=\"openpyxl\")\n",
    "    result.to_excel(writer)\n",
    "    writer.save()\n",
    "    writer.close()\n",
    "    \n",
    "    print(result.describe())"
   ]
  },
  {
   "cell_type": "code",
   "execution_count": 47,
   "id": "7548f639",
   "metadata": {},
   "outputs": [],
   "source": []
  },
  {
   "cell_type": "code",
   "execution_count": 48,
   "id": "ef367487",
   "metadata": {},
   "outputs": [],
   "source": []
  },
  {
   "cell_type": "code",
   "execution_count": null,
   "id": "6df54ce4",
   "metadata": {},
   "outputs": [],
   "source": []
  }
 ],
 "metadata": {
  "kernelspec": {
   "display_name": "Python 3",
   "language": "python",
   "name": "python3"
  },
  "language_info": {
   "codemirror_mode": {
    "name": "ipython",
    "version": 3
   },
   "file_extension": ".py",
   "mimetype": "text/x-python",
   "name": "python",
   "nbconvert_exporter": "python",
   "pygments_lexer": "ipython3",
   "version": "3.8.8"
  }
 },
 "nbformat": 4,
 "nbformat_minor": 5
}
