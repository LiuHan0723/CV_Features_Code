{
 "cells": [
  {
   "cell_type": "code",
   "execution_count": 1,
   "id": "faf47929",
   "metadata": {},
   "outputs": [],
   "source": [
    "from header import *"
   ]
  },
  {
   "cell_type": "code",
   "execution_count": 2,
   "id": "dd210dfc",
   "metadata": {},
   "outputs": [],
   "source": [
    " def cal_SK_data(df_basic_info,df_skill_info,enum_skill):\n",
    "        \n",
    "        tmp_df=df_skill_info.groupby(\"id\")[\"skill\"].count().to_frame()\n",
    "        tmp_df.columns=[\"SK_skilan_01\"]\n",
    "        df_basic_info=pd.merge(df_basic_info,tmp_df,how=\"left\",left_on=\"id\",right_on=\"id\")\n",
    "        \n",
    "        tmp_df=df_skill_info.groupby(\"id\")[\"level\"].apply(lambda x: sum(x==\"精通\")).to_frame()\n",
    "        tmp_df.columns=[\"SK_skilan_1N_02\"]\n",
    "        df_basic_info=pd.merge(df_basic_info,tmp_df,how=\"left\",left_on=\"id\",right_on=\"id\")\n",
    "        \n",
    "        tmp_df=df_skill_info.groupby(\"id\")[\"level\"].apply(lambda x: sum(x==\"熟练\")).to_frame()\n",
    "        tmp_df.columns=[\"SK_skilan_1N_03\"]\n",
    "        df_basic_info=pd.merge(df_basic_info,tmp_df,how=\"left\",left_on=\"id\",right_on=\"id\")\n",
    "        \n",
    "        tmp_df=df_skill_info.groupby(\"id\")[\"level\"].apply(lambda x: sum(x==\"良好\")).to_frame()\n",
    "        tmp_df.columns=[\"SK_skilan_1N_04\"]\n",
    "        df_basic_info=pd.merge(df_basic_info,tmp_df,how=\"left\",left_on=\"id\",right_on=\"id\")\n",
    "        \n",
    "        tmp_df=df_skill_info.groupby(\"id\")[\"level\"].apply(lambda x: sum(x==\"一般\")).to_frame()\n",
    "        tmp_df.columns=[\"SK_skilan_1N_05\"]\n",
    "        df_basic_info=pd.merge(df_basic_info,tmp_df,how=\"left\",left_on=\"id\",right_on=\"id\")\n",
    "        \n",
    "        tmp_df=df_skill_info[df_skill_info[\"skill_type\"]==\"大数据类\"].groupby(\"id\")[\"level\"].apply(lambda x:sum(x))\n",
    "        \n",
    "        \n",
    "        \n",
    "        \n",
    "        \n",
    "        \n",
    "        \n",
    "        skill_type={k:v for k,v in enum_skill[[\"skill\",\"skill_type\"]]}\n",
    "        \n",
    "        df_skill_info[\"skill_type\"]=df_skill_info[\"skill\"].map(skill_type)\n",
    "        \n",
    "        \n",
    "        count_=0\n",
    "        count__=11\n",
    "        for skill_level in [\"精通\",\"熟练\",\"良好\",\"一般\"]\n",
    "            count_+=1\n",
    "            count__+=1\n",
    "            tmp_df=df_skill_info[df_skill_info[\"skill_type\"]==\"大数据类\"].groupby([\"id\"])[\"level\"].apply(lambda x:sum(x==skill_level)).to_frame()\n",
    "            tmp_df.columns=[\"SK_data_{}N_{}\".format(count_,count__)]\n",
    "            df_basic_info=pd.merge(df_basic_info,tmp_df,how=\"left\",left_on=\"id\",right_on=\"id\")\n",
    "        \n",
    "        count_=0\n",
    "        for skill_level in [\"精通\",\"熟练\",\"良好\",\"一般\"]\n",
    "            count_+=1\n",
    "            count__+=1\n",
    "            tmp_df=df_skill_info[df_skill_info[\"skill_type\"]==\"开发编程类\"].groupby([\"id\"])[\"level\"].apply(lambda x:sum(x==skill_level)).to_frame()\n",
    "            tmp_df.columns=[\"SK_dev_{}N_{}\".format(count_,count__)]\n",
    "            df_basic_info=pd.merge(df_basic_info,tmp_df,how=\"left\",left_on=\"id\",right_on=\"id\")\n",
    "        \n",
    "        count_=0\n",
    "        for skill_level in [\"精通\",\"熟练\",\"良好\",\"一般\"]\n",
    "            count_+=1\n",
    "            count__+=1\n",
    "            tmp_df=df_skill_info[df_skill_info[\"skill_type\"]==\"多媒体设计类\"].groupby([\"id\"])[\"level\"].apply(lambda x:sum(x==skill_level)).to_frame()\n",
    "            tmp_df.columns=[\"SK_mul_{}N_{}\".format(count_,count__)]\n",
    "            df_basic_info=pd.merge(df_basic_info,tmp_df,how=\"left\",left_on=\"id\",right_on=\"id\")\n",
    "        \n",
    "        count_=0\n",
    "        for skill_level in [\"精通\",\"熟练\",\"良好\",\"一般\"]\n",
    "            count_+=1\n",
    "            count__+=1\n",
    "            tmp_df=df_skill_info[df_skill_info[\"skill_type\"]==\"办公应用软件\"].groupby([\"id\"])[\"level\"].apply(lambda x:sum(x==skill_level)).to_frame()\n",
    "            tmp_df.columns=[\"SK_offi_{}N_{}\".format(count_,count__)]\n",
    "            df_basic_info=pd.merge(df_basic_info,tmp_df,how=\"left\",left_on=\"id\",right_on=\"id\")\n",
    "            \n",
    "        count_=0\n",
    "        for skill_level in [\"精通\",\"熟练\",\"良好\",\"一般\"]\n",
    "            count_+=1\n",
    "            count__+=1\n",
    "            tmp_df=df_skill_info[df_skill_info[\"skill_type\"]==\"语言类\"].groupby([\"id\"])[\"level\"].apply(lambda x:sum(x==skill_level)).to_frame()\n",
    "            tmp_df.columns=[\"SK_lang_{}N_{}\".format(count_,count__)]\n",
    "            df_basic_info=pd.merge(df_basic_info,tmp_df,how=\"left\",left_on=\"id\",right_on=\"id\")\n",
    "        \n",
    "        count_=0\n",
    "        for skill_level in [\"精通\",\"熟练\",\"良好\",\"一般\"]\n",
    "            count_+=1\n",
    "            count__+=1\n",
    "            tmp_df=df_skill_info[df_skill_info[\"skill_type\"]==\"财务管理类\"].groupby([\"id\"])[\"level\"].apply(lambda x:sum(x==skill_level)).to_frame()\n",
    "            tmp_df.columns=[\"SK_mana_{}N_{}\".format(count_,count__)]\n",
    "            df_basic_info=pd.merge(df_basic_info,tmp_df,how=\"left\",left_on=\"id\",right_on=\"id\")\n",
    "        \n",
    "        \n",
    "        "
   ]
  },
  {
   "cell_type": "code",
   "execution_count": 8,
   "id": "b59bc171",
   "metadata": {},
   "outputs": [],
   "source": [
    "df=pd.DataFrame({\"a\":[1,2,2,1,1],\"b\":[2,3,4,5,6]})"
   ]
  },
  {
   "cell_type": "code",
   "execution_count": 11,
   "id": "1fe1d59a",
   "metadata": {},
   "outputs": [
    {
     "data": {
      "text/plain": [
       "a\n",
       "1    1\n",
       "2    0\n",
       "Name: b, dtype: int64"
      ]
     },
     "execution_count": 11,
     "metadata": {},
     "output_type": "execute_result"
    }
   ],
   "source": [
    "df.groupby(\"a\")[\"b\"].apply(lambda x:sum(x==2))"
   ]
  },
  {
   "cell_type": "code",
   "execution_count": null,
   "id": "41678e96",
   "metadata": {},
   "outputs": [],
   "source": []
  }
 ],
 "metadata": {
  "kernelspec": {
   "display_name": "Python 3",
   "language": "python",
   "name": "python3"
  },
  "language_info": {
   "codemirror_mode": {
    "name": "ipython",
    "version": 3
   },
   "file_extension": ".py",
   "mimetype": "text/x-python",
   "name": "python",
   "nbconvert_exporter": "python",
   "pygments_lexer": "ipython3",
   "version": "3.8.8"
  }
 },
 "nbformat": 4,
 "nbformat_minor": 5
}
