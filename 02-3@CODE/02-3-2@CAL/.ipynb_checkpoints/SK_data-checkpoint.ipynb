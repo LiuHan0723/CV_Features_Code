{
 "cells": [
  {
   "cell_type": "code",
   "execution_count": 1,
   "id": "f7f908e6",
   "metadata": {},
   "outputs": [],
   "source": [
    "####################  ####################\n",
    "#SK_data.py\n",
    "#变量组：SK_data 大数据类所有/精通/熟练/良好/一般的技能数量\n",
    "#输入数据集：\n",
    "    # cv_basic_info_cleaned 基本信息表 \n",
    "    # cv_skill_detail_cleaned 技能表\n",
    "    # enum_skill 技能枚举值静态表\n",
    "#输出数据集：\n",
    "    # SK_data \n",
    "#作者：DXT\n",
    "#版本：v0.1\n",
    "####################  ####################"
   ]
  },
  {
   "cell_type": "code",
   "execution_count": 2,
   "id": "43cdd23c",
   "metadata": {},
   "outputs": [],
   "source": [
    "#头文件\n",
    "from header import *"
   ]
  },
  {
   "cell_type": "code",
   "execution_count": 3,
   "id": "99c43bc3",
   "metadata": {},
   "outputs": [],
   "source": [
    "#变量计算逻辑（以pandas DataFrame传入计算该变量所需的数据集，返回含有id、各特征变量列的计算结果）\n",
    "def cal_SK_data(df_cv_basic_info,df_cv_skill_detail,df_skill_enum):\n",
    "    t1=pd.merge(df_cv_skill_detail,df_skill_enum,left_on='skill',right_on='skill',how='left')\n",
    "\n",
    "    s1_1 = t1[t1['skill_type']=='大数据类'].groupby('id')['skill'].agg(SK_data_364=lambda x :x.count())\n",
    "    s1_2 = t1[(t1['skill_type']=='大数据类')&(t1['level']=='精通')].groupby('id')['skill'].agg(SK_data_N_370=lambda x :x.count())\n",
    "    s1_3 = t1[(t1['skill_type']=='大数据类')&(t1['level']=='熟练')].groupby('id')['skill'].agg(SK_data_1N_371=lambda x :x.count())\n",
    "    s1_4 = t1[(t1['skill_type']=='大数据类')&(t1['level']=='良好')].groupby('id')['skill'].agg(SK_data_2N_372=lambda x :x.count())\n",
    "    s1_5 = t1[(t1['skill_type']=='大数据类')&(t1['level']=='一般')].groupby('id')['skill'].agg(SK_data_3N_373=lambda x :x.count())\n",
    "    \n",
    "    s1=pd.concat([s1_1,s1_2,s1_3,s1_4,s1_5],axis=True).fillna(0)\n",
    "    \n",
    "    output=pd.merge(df_cv_basic_info[['id']],s1,left_on='id',right_on='id',how='left').fillna(0)\n",
    "    return output"
   ]
  },
  {
   "cell_type": "code",
   "execution_count": 4,
   "id": "d3d7488b",
   "metadata": {},
   "outputs": [
    {
     "name": "stdout",
     "output_type": "stream",
     "text": [
      "               id  SK_data_364  SK_data_N_370  SK_data_1N_371  SK_data_2N_372  \\\n",
      "count  302.000000   302.000000     302.000000      302.000000      302.000000   \n",
      "mean   151.500000     0.857616       0.052980        0.450331        0.235099   \n",
      "std     87.324109     1.188088       0.277341        0.712384        0.599856   \n",
      "min      1.000000     0.000000       0.000000        0.000000        0.000000   \n",
      "25%     76.250000     0.000000       0.000000        0.000000        0.000000   \n",
      "50%    151.500000     1.000000       0.000000        0.000000        0.000000   \n",
      "75%    226.750000     1.000000       0.000000        1.000000        0.000000   \n",
      "max    302.000000    13.000000       3.000000        3.000000        6.000000   \n",
      "\n",
      "       SK_data_3N_373  \n",
      "count      302.000000  \n",
      "mean         0.119205  \n",
      "std          0.445385  \n",
      "min          0.000000  \n",
      "25%          0.000000  \n",
      "50%          0.000000  \n",
      "75%          0.000000  \n",
      "max          5.000000  \n"
     ]
    }
   ],
   "source": [
    "if __name__=='__main__':\n",
    "    \n",
    "    #读入数据\n",
    "    skill_enum=pd.read_excel(origin_path+\"enum_skill.xlsx\")\n",
    "    cv_basic_info=pd.read_excel(input_path+\"cv_basic_info_cleaned.xlsx\")\n",
    "    cv_skill_detail=pd.read_excel(input_path+\"cv_skill_detail_cleaned.xlsx\")\n",
    "    \n",
    "    result=cal_SK_data(cv_basic_info,cv_skill_detail,skill_enum)\n",
    "    \n",
    "    #输出计算结果\n",
    "    writer=pd.ExcelWriter(output_path+\"SK_data.xlsx\",engine=\"openpyxl\")\n",
    "    result.to_excel(writer,index=False)\n",
    "    writer.save()\n",
    "    writer.close()\n",
    "    \n",
    "    #检查\n",
    "    print(result.describe())"
   ]
  }
 ],
 "metadata": {
  "kernelspec": {
   "display_name": "Python 3 (ipykernel)",
   "language": "python",
   "name": "python3"
  },
  "language_info": {
   "codemirror_mode": {
    "name": "ipython",
    "version": 3
   },
   "file_extension": ".py",
   "mimetype": "text/x-python",
   "name": "python",
   "nbconvert_exporter": "python",
   "pygments_lexer": "ipython3",
   "version": "3.9.12"
  }
 },
 "nbformat": 4,
 "nbformat_minor": 5
}
