{
 "cells": [
  {
   "cell_type": "code",
   "execution_count": 3,
   "id": "04444bf8",
   "metadata": {},
   "outputs": [],
   "source": [
    "from header import *\n",
    "import datetime"
   ]
  },
  {
   "cell_type": "code",
   "execution_count": 106,
   "id": "9e9be1c6",
   "metadata": {},
   "outputs": [],
   "source": [
    "def cal_PE_data(df_cv_basic_info,df_project_info):\n",
    "    \n",
    "    pd_merge0=pd.merge(df_cv_basic_info,df_project_info,left_on=\"id\",right_on=\"id\",how=\"left\")\n",
    "    pd0=pd_merge0.groupby(\"id\").count()\n",
    "    \n",
    "    pd_merge1=pd.merge(df_cv_basic_info,df_project_info[df_project_info[\"end_time\"]!=\"至今\"],left_on=\"id\",right_on=\"id\",how=\"left\")\n",
    "    pd1=pd_merge1.groupby(\"id\").count()\n",
    "    \n",
    "    pd_merge2=pd.merge(df_cv_basic_info,df_project_info[df_project_info[\"end_time\"]==\"至今\"],left_on=\"id\",right_on=\"id\",how=\"left\")\n",
    "    pd2=pd_merge2.group(\"id\").count()\n",
    "    \n",
    "    pd_merge3=pd.merge(df_cv_basic_info,df_project_info.replace({\"end_time\":{\"至今\":\"{}/{}\".format(datetime.datetime.today().year,datetime.datetime.today().month)}}),left_on=\"id\",right_on=\"id\",how=\"left\")\n",
    "    \n",
    "    pd_merge3[\"begin_time\"]=pd.to_datetime(pd_merge3[\"begin_time\"])\n",
    "    pd_merge3[\"end_time\"]=pd.to_datetime(pd_merge3[\"end_time\"])\n",
    "    \n",
    "    pd3=pd_merge3.groupby('id').apply(lambda x:sum((x[\"end_time\"]-pd.to_datetime(\"2021/7\"))>365))\n",
    "    pd4=pd_merge3.groupby('id').apply(lambda x:sum((x[\"end_time\"]-pd.to_datetime(\"2020/7\"))>365*2))\n",
    "    pd5=pd_merge3.groupby('id').apply(lambda x:sum((x[\"end_time\"]-pd.to_datetime(\"2019/7\"))>365*3))\n",
    "    pd6=pd_merge3.groupby('id').apply(lambda x:sum((x[\"end_time\"]-pd.to_datetime(\"2018/7\"))>365*4))\n",
    "    pd7=pd_merge3.groupby('id').apply(lambda x:sum((x[\"end_time\"]-pd.to_datetime(\"2017/7\"))>365*5))\n",
    "    pd8=pd_merge3.groupby('id').apply(lambda x:max(pd.to_datetime(\"2022/7\")-x[\"end_time\"]).days//30)\n",
    "    pd9=pd_merge3.groupby('id').apply(lambda x:min(pd.to_datetime(\"2022/7\")-x[\"end_time\"]).days//30)\n",
    "    pd10=pd_merge3.groupby('id').apply(lambda x:sum([i.days//30 for i in (pd.to_datetime(\"2022/7\")-x[\"end_time\"])])//len([i.days for i in (pd.to_datetime(\"2022/7\")-x[\"end_time\"])]))\n",
    "    pd11=pd_merge3.groupby('id').apply(lambda x:sum([i.days//30 for i in (pd.to_datetime(\"2022/7\")-x[\"end_time\"])]))\n",
    "    \n",
    "    s1=pd.concat([pd0,pd1,pd2,pd3,pd4,pd5,pd6,pd7,pd8,pd9,pd10,pd11])\n",
    "    \n",
    "    s1.columns=[\"PE_N_01\",\"PE_1N_02\",\"PE_2N_03\",\"PE_Y1_N_04\",\"PE_Y2_N_05\",\"PE_Y3_N_06\",\"PE_Y4_N_07\",\"PE_Y5_N_08\",\"PE_time_MAX_01\",\"PE_time_MIN_02\",\"PE_time_AVG_03\",\"PE_time_SUM_04\"]\n",
    "    return pd.merge(df_cv_basic_info[['id']],s1,left_on='id',right_on='id',how='left').fillna(0)\n",
    "    "
   ]
  },
  {
   "cell_type": "code",
   "execution_count": null,
   "id": "7a140db6",
   "metadata": {},
   "outputs": [],
   "source": []
  }
 ],
 "metadata": {
  "kernelspec": {
   "display_name": "Python 3",
   "language": "python",
   "name": "python3"
  },
  "language_info": {
   "codemirror_mode": {
    "name": "ipython",
    "version": 3
   },
   "file_extension": ".py",
   "mimetype": "text/x-python",
   "name": "python",
   "nbconvert_exporter": "python",
   "pygments_lexer": "ipython3",
   "version": "3.8.8"
  }
 },
 "nbformat": 4,
 "nbformat_minor": 5
}
