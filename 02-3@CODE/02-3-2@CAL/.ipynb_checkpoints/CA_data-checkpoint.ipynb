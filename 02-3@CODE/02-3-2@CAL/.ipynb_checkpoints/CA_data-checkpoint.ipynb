{
 "cells": [
  {
   "cell_type": "code",
   "execution_count": 1,
   "id": "ab973428",
   "metadata": {},
   "outputs": [],
   "source": [
    "from header import *"
   ]
  },
  {
   "cell_type": "code",
   "execution_count": 5,
   "id": "1ad77e59",
   "metadata": {},
   "outputs": [],
   "source": [
    "def cal_CA_data(df_basic_info,df_ca_info):\n",
    "    \n",
    "    tmp_df_num=df_ca_info.groupby(\"id\")[\"honor_title\"].count().to_frame()\n",
    "    tmp_df_num.columns=[\"CA_N\"]\n",
    "    df_basic_info=pd.merge(df_basic_info,tmp_df_num,how=\"left\",left_on=\"id\",right_on=\"id\")\n",
    "    return df_basic_info[[\"id\",\"CA_N\"]].fillna(0)"
   ]
  },
  {
   "cell_type": "code",
   "execution_count": 6,
   "id": "1475f800",
   "metadata": {},
   "outputs": [
    {
     "name": "stdout",
     "output_type": "stream",
     "text": [
      "              id  CA_N\n",
      "0   IT-H00000001   0.0\n",
      "1   IT-H00000002   0.0\n",
      "2   IT-H00000003   0.0\n",
      "3   IT-H00000004   0.0\n",
      "4   IT-H00000005   0.0\n",
      "5   IT-H00000006   0.0\n",
      "6   IT-H00000007  10.0\n",
      "7   IT-H00000008   0.0\n",
      "8   IT-H00000009   0.0\n",
      "9   IT-H00000010   0.0\n",
      "10  IT-H00000011   0.0\n",
      "11  IT-H00000012   0.0\n",
      "12  IT-H00000013   0.0\n",
      "13  IT-H00000014   0.0\n",
      "14  IT-H00000015   0.0\n",
      "15  IT-H00000016   0.0\n",
      "16  IT-H00000017   0.0\n",
      "17  IT-H00000018   0.0\n",
      "18  IT-H00000019   0.0\n",
      "19  IT-H00000020   0.0\n",
      "20  IT-H00000021   0.0\n",
      "21  IT-H00000022   1.0\n",
      "22  IT-H00000023   0.0\n",
      "23  IT-H00000024   0.0\n",
      "24  IT-H00000025   1.0\n",
      "25  IT-H00000026   1.0\n",
      "26  IT-H00000027   0.0\n",
      "27  IT-H00000028   1.0\n",
      "28  IT-H00000029   0.0\n",
      "29  IT-H00000030   0.0\n",
      "30  IT-H00000031   2.0\n",
      "31  IT-H00000032   0.0\n",
      "32  IT-H00000033   0.0\n",
      "33  IT-H00000034   0.0\n",
      "34  IT-H00000035   0.0\n",
      "35  IT-H00000036   0.0\n",
      "36  IT-H00000037   0.0\n",
      "37  IT-H00000038   0.0\n",
      "38  IT-H00000039   0.0\n",
      "39  IT-H00000040   0.0\n",
      "40  IT-H00000041   0.0\n",
      "41  IT-H00000042   0.0\n",
      "42  IT-H00000043   4.0\n",
      "43  IT-H00000044   0.0\n",
      "44  IT-H00000045   0.0\n",
      "45  IT-H00000046   0.0\n",
      "46  IT-H00000047   0.0\n",
      "47  IT-H00000048   0.0\n",
      "48  IT-H00000049   0.0\n",
      "49  IT-H00000050   0.0\n",
      "50  IT-H00000051   0.0\n",
      "51  IT-H00000052   0.0\n",
      "52  IT-H00000053   0.0\n",
      "53  IT-H00000054   0.0\n"
     ]
    }
   ],
   "source": [
    "if __name__==\"__main__\":\n",
    "    df_basic_info=pd.read_excel(\"../../02-2@DATA/result_html.xlsx\",sheet_name=\"基本信息表\")\n",
    "    df_ca_info=pd.read_excel(\"../../02-2@DATA/result_html.xlsx\",sheet_name=\"在校荣誉表\")\n",
    "    print(cal_CA_data(df_basic_info,df_ca_info))"
   ]
  },
  {
   "cell_type": "code",
   "execution_count": null,
   "id": "56963191",
   "metadata": {},
   "outputs": [],
   "source": []
  }
 ],
 "metadata": {
  "kernelspec": {
   "display_name": "Python 3",
   "language": "python",
   "name": "python3"
  },
  "language_info": {
   "codemirror_mode": {
    "name": "ipython",
    "version": 3
   },
   "file_extension": ".py",
   "mimetype": "text/x-python",
   "name": "python",
   "nbconvert_exporter": "python",
   "pygments_lexer": "ipython3",
   "version": "3.8.8"
  }
 },
 "nbformat": 4,
 "nbformat_minor": 5
}
