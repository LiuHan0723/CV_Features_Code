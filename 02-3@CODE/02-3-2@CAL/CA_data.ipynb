{
 "cells": [
  {
   "cell_type": "code",
   "execution_count": 2,
   "id": "ab973428",
   "metadata": {},
   "outputs": [],
   "source": [
    "from header import *"
   ]
  },
  {
   "cell_type": "code",
   "execution_count": 3,
   "id": "1ad77e59",
   "metadata": {},
   "outputs": [],
   "source": [
    "def cal_CA_data(df_basic_info,df_ca_info):\n",
    "    \n",
    "    tmp_df_num=df_ca_info.groupby(\"id\")[\"honor_title\"].count().to_frame()\n",
    "    tmp_df_num.columns=[\"CA_N\"]\n",
    "    df_basic_info=pd.merge(df_basic_info,tmp_df_num,how=\"left\",left_on=\"id\",right_on=\"id\")\n",
    "    return df_basic_info[[\"id\",\"CA_N\"]].fillna(0)"
   ]
  },
  {
   "cell_type": "code",
   "execution_count": 4,
   "id": "1475f800",
   "metadata": {},
   "outputs": [
    {
     "name": "stdout",
     "output_type": "stream",
     "text": [
      "            CA_N\n",
      "count  54.000000\n",
      "mean    0.370370\n",
      "std     1.483193\n",
      "min     0.000000\n",
      "25%     0.000000\n",
      "50%     0.000000\n",
      "75%     0.000000\n",
      "max    10.000000\n"
     ]
    }
   ],
   "source": [
    "if __name__==\"__main__\":\n",
    "    df_basic_info=pd.read_excel(\"../../02-2@DATA/result_html.xlsx\",sheet_name=\"基本信息表\")\n",
    "    df_ca_info=pd.read_excel(\"../../02-2@DATA/result_html.xlsx\",sheet_name=\"在校荣誉表\")\n",
    "    result=cal_CA_data(df_basic_info,df_ca_info)\n",
    "    \n",
    "    writer=pd.ExcelWriter(output_path+\"PE_data.xlsx\",engine=\"openpyxl\")\n",
    "    result.to_excel(writer)\n",
    "    writer.save()\n",
    "    writer.close()\n",
    "    \n",
    "    print(result.describe())\n",
    "    \n",
    "    "
   ]
  },
  {
   "cell_type": "code",
   "execution_count": null,
   "id": "56963191",
   "metadata": {},
   "outputs": [],
   "source": []
  }
 ],
 "metadata": {
  "kernelspec": {
   "display_name": "Python 3",
   "language": "python",
   "name": "python3"
  },
  "language_info": {
   "codemirror_mode": {
    "name": "ipython",
    "version": 3
   },
   "file_extension": ".py",
   "mimetype": "text/x-python",
   "name": "python",
   "nbconvert_exporter": "python",
   "pygments_lexer": "ipython3",
   "version": "3.8.8"
  }
 },
 "nbformat": 4,
 "nbformat_minor": 5
}
