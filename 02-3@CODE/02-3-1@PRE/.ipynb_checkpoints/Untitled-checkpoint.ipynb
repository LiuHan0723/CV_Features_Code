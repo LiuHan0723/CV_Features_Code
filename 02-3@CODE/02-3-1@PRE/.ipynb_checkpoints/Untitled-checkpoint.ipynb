{
 "cells": [
  {
   "cell_type": "code",
   "execution_count": 1,
   "id": "fa3231b0",
   "metadata": {},
   "outputs": [],
   "source": [
    "####################  ####################\n",
    "#header.py\n",
    "#功能：数据清洗头文件\n",
    "#作者：DXT\n",
    "#版本：v0.1\n",
    "####################  ####################"
   ]
  },
  {
   "cell_type": "code",
   "execution_count": 2,
   "id": "cbdad28f",
   "metadata": {},
   "outputs": [],
   "source": [
    "#导包\n",
    "import os\n",
    "import pandas as pd\n",
    "import numpy as np\n",
    "from openpyxl import load_workbook\n",
    "import warnings\n",
    "warnings.filterwarnings(\"ignore\")"
   ]
  },
  {
   "cell_type": "code",
   "execution_count": 3,
   "id": "7cf0c38b",
   "metadata": {},
   "outputs": [],
   "source": [
    "#读入数据的路径\n",
    "input_path=os.path.dirname(os.path.dirname(os.getcwd()))+\"\\\\02-1@INPUT\\\\\"\n",
    "output_path=os.path.dirname(os.path.dirname(os.getcwd()))+\"\\\\02-2@DATA\\\\\""
   ]
  }
 ],
 "metadata": {
  "kernelspec": {
   "display_name": "Python 3 (ipykernel)",
   "language": "python",
   "name": "python3"
  },
  "language_info": {
   "codemirror_mode": {
    "name": "ipython",
    "version": 3
   },
   "file_extension": ".py",
   "mimetype": "text/x-python",
   "name": "python",
   "nbconvert_exporter": "python",
   "pygments_lexer": "ipython3",
   "version": "3.9.12"
  }
 },
 "nbformat": 4,
 "nbformat_minor": 5
}
