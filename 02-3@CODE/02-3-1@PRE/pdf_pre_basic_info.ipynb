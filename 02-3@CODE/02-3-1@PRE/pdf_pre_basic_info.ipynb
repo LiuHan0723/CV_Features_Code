{
 "cells": [
  {
   "cell_type": "code",
   "execution_count": null,
   "id": "df9cbc01",
   "metadata": {},
   "outputs": [],
   "source": [
    "####################  ####################\n",
    "#pdf_pre_basic_info.py\n",
    "#功能：来自pdf的基本信息表数据清洗\n",
    "#作者：DXT\n",
    "#版本：v0.1\n",
    "####################  ####################"
   ]
  },
  {
   "cell_type": "code",
   "execution_count": 5,
   "id": "be916c42",
   "metadata": {},
   "outputs": [],
   "source": [
    "#头文件\n",
    "from header import *"
   ]
  },
  {
   "cell_type": "code",
   "execution_count": 8,
   "id": "00206207",
   "metadata": {},
   "outputs": [],
   "source": [
    "#读入数据\n",
    "cv_basic_info=pd.read_excel(input_path+\"result_pdf.xlsx\",sheet_name=\"基本信息表\")"
   ]
  },
  {
   "cell_type": "code",
   "execution_count": 9,
   "id": "56463fb8",
   "metadata": {},
   "outputs": [],
   "source": [
    "#清洗逻辑\n",
    "#TO DO......\n",
    "cv_basic_info_cleaned=cv_basic_info"
   ]
  },
  {
   "cell_type": "code",
   "execution_count": 10,
   "id": "e26b080c",
   "metadata": {},
   "outputs": [],
   "source": [
    "#输出清洗后结果\n",
    "writer=pd.ExcelWriter(output_path+\"cv_basic_info_cleaned.xlsx\",engine=\"openpyxl\")\n",
    "cv_basic_info_cleaned.to_excel(writer,index=False)\n",
    "writer.save()\n",
    "writer.close()"
   ]
  }
 ],
 "metadata": {
  "kernelspec": {
   "display_name": "Python 3 (ipykernel)",
   "language": "python",
   "name": "python3"
  },
  "language_info": {
   "codemirror_mode": {
    "name": "ipython",
    "version": 3
   },
   "file_extension": ".py",
   "mimetype": "text/x-python",
   "name": "python",
   "nbconvert_exporter": "python",
   "pygments_lexer": "ipython3",
   "version": "3.9.12"
  }
 },
 "nbformat": 4,
 "nbformat_minor": 5
}
