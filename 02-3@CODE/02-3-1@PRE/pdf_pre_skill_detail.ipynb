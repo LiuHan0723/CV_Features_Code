{
 "cells": [
  {
   "cell_type": "code",
   "execution_count": null,
   "id": "df9cbc01",
   "metadata": {},
   "outputs": [],
   "source": [
    "####################  ####################\n",
    "#pdf_pre_skill_detail.py\n",
    "#功能：来自pdf的技能表数据清洗\n",
    "#作者：DXT\n",
    "#版本：v0.1\n",
    "####################  ####################"
   ]
  },
  {
   "cell_type": "code",
   "execution_count": 1,
   "id": "be916c42",
   "metadata": {},
   "outputs": [],
   "source": [
    "#头文件\n",
    "from header import *"
   ]
  },
  {
   "cell_type": "code",
   "execution_count": 2,
   "id": "00206207",
   "metadata": {},
   "outputs": [],
   "source": [
    "#读入数据\n",
    "cv_skill_detail=pd.read_excel(input_path+\"result_pdf.xlsx\",sheet_name=\"技能表\")"
   ]
  },
  {
   "cell_type": "code",
   "execution_count": 3,
   "id": "56463fb8",
   "metadata": {},
   "outputs": [],
   "source": [
    "#清洗逻辑\n",
    "#TO DO......\n",
    "cv_skill_detail_cleaned=cv_skill_detail"
   ]
  },
  {
   "cell_type": "code",
   "execution_count": 5,
   "id": "e26b080c",
   "metadata": {},
   "outputs": [],
   "source": [
    "#输出清洗后结果\n",
    "writer=pd.ExcelWriter(output_path+\"cv_skill_detail_cleaned.xlsx\",engine=\"openpyxl\")\n",
    "cv_skill_detail_cleaned.to_excel(writer,index=False)\n",
    "writer.save()\n",
    "writer.close()"
   ]
  }
 ],
 "metadata": {
  "kernelspec": {
   "display_name": "Python 3 (ipykernel)",
   "language": "python",
   "name": "python3"
  },
  "language_info": {
   "codemirror_mode": {
    "name": "ipython",
    "version": 3
   },
   "file_extension": ".py",
   "mimetype": "text/x-python",
   "name": "python",
   "nbconvert_exporter": "python",
   "pygments_lexer": "ipython3",
   "version": "3.9.12"
  }
 },
 "nbformat": 4,
 "nbformat_minor": 5
}
